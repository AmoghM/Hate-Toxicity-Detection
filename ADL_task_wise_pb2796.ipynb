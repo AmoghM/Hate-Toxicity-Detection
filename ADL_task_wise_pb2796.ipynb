{
  "nbformat": 4,
  "nbformat_minor": 0,
  "metadata": {
    "colab": {
      "name": "ADL_task_wise_pb2796.ipynb",
      "provenance": [],
      "collapsed_sections": []
    },
    "kernelspec": {
      "name": "python3",
      "display_name": "Python 3"
    },
    "accelerator": "GPU"
  },
  "cells": [
    {
      "cell_type": "code",
      "metadata": {
        "colab": {
          "base_uri": "https://localhost:8080/"
        },
        "id": "9TR57jgPRPRG",
        "outputId": "99848492-5a05-4b1c-984b-f5f38c8724e3"
      },
      "source": [
        "from google.colab import drive # import drive from google colab\r\n",
        "\r\n",
        "ROOT = \"/content/drive\"     # default location for the drive\r\n",
        "print(ROOT)                 # pr'int content of ROOT (Optional)\r\n",
        "\r\n",
        "drive.mount(ROOT)"
      ],
      "execution_count": null,
      "outputs": [
        {
          "output_type": "stream",
          "text": [
            "/content/drive\n",
            "Drive already mounted at /content/drive; to attempt to forcibly remount, call drive.mount(\"/content/drive\", force_remount=True).\n"
          ],
          "name": "stdout"
        }
      ]
    },
    {
      "cell_type": "markdown",
      "metadata": {
        "id": "ZQQMn-9-mxuf"
      },
      "source": [
        "**SETTING UP DIRECTORIES**"
      ]
    },
    {
      "cell_type": "code",
      "metadata": {
        "id": "m4nlU64bhN-M"
      },
      "source": [
        "MY_GOOGLE_DRIVE_PATH = 'My Drive/ADL_12162020/'\r\n",
        "GIT_TOKEN = '418ef650c19648943e83f603b347b5da5012edc8'\r\n",
        "GIT_USERNAME = 'AmoghM'\r\n",
        "GIT_REPOSITORY = 'Hate-Toxicity-Detection'\r\n",
        "\r\n",
        "from os.path import join  \r\n",
        "\r\n",
        "PROJECT_PATH = join(ROOT, MY_GOOGLE_DRIVE_PATH)"
      ],
      "execution_count": null,
      "outputs": []
    },
    {
      "cell_type": "code",
      "metadata": {
        "colab": {
          "base_uri": "https://localhost:8080/"
        },
        "id": "IiORa8mOhSF8",
        "outputId": "7a431116-db6f-4e64-f75b-c0234d79d9b8"
      },
      "source": [
        "%cd \"{PROJECT_PATH}\"\r\n",
        "%cd \"Hate-Toxicity-Detection\""
      ],
      "execution_count": null,
      "outputs": [
        {
          "output_type": "stream",
          "text": [
            "/content/drive/My Drive/ADL_12162020\n",
            "/content/drive/My Drive/ADL_12162020/Hate-Toxicity-Detection\n"
          ],
          "name": "stdout"
        }
      ]
    },
    {
      "cell_type": "code",
      "metadata": {
        "colab": {
          "base_uri": "https://localhost:8080/"
        },
        "id": "le-rZjHWZ8VS",
        "outputId": "24f0c1ec-f361-4f02-bf40-7f3b4cb3316a"
      },
      "source": [
        "!pip install transformers"
      ],
      "execution_count": null,
      "outputs": [
        {
          "output_type": "stream",
          "text": [
            "Requirement already satisfied: transformers in /usr/local/lib/python3.6/dist-packages (4.1.1)\n",
            "Requirement already satisfied: packaging in /usr/local/lib/python3.6/dist-packages (from transformers) (20.8)\n",
            "Requirement already satisfied: requests in /usr/local/lib/python3.6/dist-packages (from transformers) (2.23.0)\n",
            "Requirement already satisfied: filelock in /usr/local/lib/python3.6/dist-packages (from transformers) (3.0.12)\n",
            "Requirement already satisfied: tqdm>=4.27 in /usr/local/lib/python3.6/dist-packages (from transformers) (4.41.1)\n",
            "Requirement already satisfied: tokenizers==0.9.4 in /usr/local/lib/python3.6/dist-packages (from transformers) (0.9.4)\n",
            "Requirement already satisfied: dataclasses; python_version < \"3.7\" in /usr/local/lib/python3.6/dist-packages (from transformers) (0.8)\n",
            "Requirement already satisfied: sacremoses in /usr/local/lib/python3.6/dist-packages (from transformers) (0.0.43)\n",
            "Requirement already satisfied: regex!=2019.12.17 in /usr/local/lib/python3.6/dist-packages (from transformers) (2019.12.20)\n",
            "Requirement already satisfied: numpy in /usr/local/lib/python3.6/dist-packages (from transformers) (1.19.4)\n",
            "Requirement already satisfied: pyparsing>=2.0.2 in /usr/local/lib/python3.6/dist-packages (from packaging->transformers) (2.4.7)\n",
            "Requirement already satisfied: idna<3,>=2.5 in /usr/local/lib/python3.6/dist-packages (from requests->transformers) (2.10)\n",
            "Requirement already satisfied: urllib3!=1.25.0,!=1.25.1,<1.26,>=1.21.1 in /usr/local/lib/python3.6/dist-packages (from requests->transformers) (1.24.3)\n",
            "Requirement already satisfied: chardet<4,>=3.0.2 in /usr/local/lib/python3.6/dist-packages (from requests->transformers) (3.0.4)\n",
            "Requirement already satisfied: certifi>=2017.4.17 in /usr/local/lib/python3.6/dist-packages (from requests->transformers) (2020.12.5)\n",
            "Requirement already satisfied: joblib in /usr/local/lib/python3.6/dist-packages (from sacremoses->transformers) (1.0.0)\n",
            "Requirement already satisfied: six in /usr/local/lib/python3.6/dist-packages (from sacremoses->transformers) (1.15.0)\n",
            "Requirement already satisfied: click in /usr/local/lib/python3.6/dist-packages (from sacremoses->transformers) (7.1.2)\n"
          ],
          "name": "stdout"
        }
      ]
    },
    {
      "cell_type": "markdown",
      "metadata": {
        "id": "8jZOs6rVnoR8"
      },
      "source": [
        "**Imports**"
      ]
    },
    {
      "cell_type": "code",
      "metadata": {
        "id": "12L2patpnqDV"
      },
      "source": [
        "import os\r\n",
        "import numpy as np\r\n",
        "import pandas as pd\r\n",
        "import torch\r\n",
        "from torch.utils.data import Dataset\r\n",
        "from collections import Counter\r\n",
        "from transformers import AutoTokenizer\r\n",
        "from sklearn.model_selection import train_test_split\r\n",
        "from transformers import BertForSequenceClassification, AdamW, BertConfig\r\n",
        "from transformers import get_linear_schedule_with_warmup\r\n",
        "from keras.preprocessing.sequence import pad_sequences\r\n",
        "from torch.utils.data import TensorDataset, DataLoader\r\n",
        "import random\r\n",
        "from sklearn.metrics import classification_report\r\n",
        "from torch.utils.tensorboard import SummaryWriter\r\n",
        "import matplotlib.pyplot as plt\r\n",
        "%matplotlib inline\r\n",
        "import numpy as np\r\n",
        "from matplotlib.pyplot import figure\r\n",
        "mport warnings\r\n",
        "warnings.filterwarnings('ignore')\r\n"
      ],
      "execution_count": null,
      "outputs": []
    },
    {
      "cell_type": "markdown",
      "metadata": {
        "id": "EOeJG60rmX7V"
      },
      "source": [
        "**Getting Dataset**"
      ]
    },
    {
      "cell_type": "code",
      "metadata": {
        "id": "i-AnC2PMmXK3"
      },
      "source": [
        "def get_dataset(mode = 'train', model_type = 'bert', class_map = None, max_inp_len = 100, file_path = None, task_type = None, batch_size = 8):\r\n",
        "  \"\"\" Reads the csv file from data dir and returns a Tensor DataSet \"\"\"\r\n",
        "  data = pd.read_csv(file_path, sep=\"\\t\")\r\n",
        "\r\n",
        "  if task_type == 'task_1':\r\n",
        "    labels = list(class_map.keys())\r\n",
        "    data = data[data['task_1'].isin(labels)]\r\n",
        "    data['label'] = data.apply(lambda row: class_map[row['task_1']], axis=1)\r\n",
        "  \r\n",
        "  if task_type == 'task_2':\r\n",
        "    labels = list(class_map.keys())\r\n",
        "    data = data[data['task_2'].isin(labels)]\r\n",
        "    data['label'] = data.apply(lambda row: class_map[row['task_2']], axis=1)\r\n",
        "  \r\n",
        "  if task_type == 'task_3':\r\n",
        "      labels = list(class_map.keys())\r\n",
        "      data = data[data['task_3'].isin(labels)]\r\n",
        "      data['label'] = data.apply(lambda row: class_map[row['task_3']], axis=1)\r\n",
        "  \r\n",
        "  x = data['text'].values\r\n",
        "  y = data['label'].values\r\n",
        "\r\n",
        "  tokenizer = AutoTokenizer.from_pretrained('model_artifacts/' + model_type + '', do_lower_case = True)\r\n",
        "  input_ids = [tokenizer.encode(i, add_special_tokens = True) for i in x]\r\n",
        "  input_ids = pad_sequences(input_ids, maxlen=max_inp_len, dtype=\"long\", value=0, truncating=\"post\", padding=\"post\")\r\n",
        "  labels = y\r\n",
        "\r\n",
        "  attention_masks = [[int(token_id > 0) for token_id in x] for x in input_ids]\r\n",
        "  \r\n",
        "  if mode == \"train\":\r\n",
        "    train_inputs, validation_inputs, train_labels, validation_labels = train_test_split(input_ids, labels, random_state=42, test_size=0.25)\r\n",
        "    train_masks, validation_masks, _, _ = train_test_split(attention_masks, labels, random_state=42, test_size=0.25)\r\n",
        "\r\n",
        "    train_inputs = torch.tensor(train_inputs)\r\n",
        "    validation_inputs = torch.tensor(validation_inputs)\r\n",
        "    train_labels = torch.tensor(train_labels)\r\n",
        "    validation_labels = torch.tensor(validation_labels)\r\n",
        "    train_masks = torch.tensor(train_masks)\r\n",
        "    validation_masks = torch.tensor(validation_masks)\r\n",
        "    \r\n",
        "    train_set = TensorDataset(train_inputs, train_masks, train_labels)\r\n",
        "    validation_set = TensorDataset(validation_inputs, validation_masks, validation_labels)\r\n",
        "    return train_set, validation_set\r\n",
        "  else:\r\n",
        "    test_inputs = torch.tensor(input_ids)\r\n",
        "    test_masks = torch.tensor(attention_masks)\r\n",
        "    test_labels = torch.tensor(labels)\r\n",
        "    \r\n",
        "    test_set = TensorDataset(test_inputs, test_masks, test_labels)\r\n",
        "    return test_set\r\n"
      ],
      "execution_count": null,
      "outputs": []
    },
    {
      "cell_type": "markdown",
      "metadata": {
        "id": "-oFVjUXj1onL"
      },
      "source": [
        "**Get GPU Device**"
      ]
    },
    {
      "cell_type": "code",
      "metadata": {
        "id": "F05pYCjy1tjT"
      },
      "source": [
        "def get_device():\r\n",
        "  if torch.cuda.is_available():    \r\n",
        "    device = torch.device(\"cuda\")\r\n",
        "  else:\r\n",
        "    device = torch.device(\"cpu\")\r\n",
        "  return device"
      ],
      "execution_count": null,
      "outputs": []
    },
    {
      "cell_type": "markdown",
      "metadata": {
        "id": "cpN12zMF9U9Y"
      },
      "source": [
        "**Set Random Seed**"
      ]
    },
    {
      "cell_type": "code",
      "metadata": {
        "id": "Hv73tqkw9aSk"
      },
      "source": [
        "def set_random_seed(seed_val = 42):\r\n",
        "  random.seed(seed_val)\r\n",
        "  np.random.seed(seed_val)\r\n",
        "  torch.manual_seed(seed_val)\r\n",
        "  torch.cuda.manual_seed_all(seed_val)\r\n"
      ],
      "execution_count": null,
      "outputs": []
    },
    {
      "cell_type": "markdown",
      "metadata": {
        "id": "VsbuJrp72OBU"
      },
      "source": [
        "**Get Transformer Model**"
      ]
    },
    {
      "cell_type": "code",
      "metadata": {
        "id": "Ak9IiZjg18Mh"
      },
      "source": [
        "def get_model(model_type = 'bert', num_classes = 2):\r\n",
        "  \"\"\" takes transformer model type as input and returns pytorch model with Hugging Face checkpoint \"\"\"\r\n",
        "  model = BertForSequenceClassification.from_pretrained('model_artifacts/' + model_type + '/', num_labels = num_classes, \\\r\n",
        "                                                        output_attentions = False, output_hidden_states = False)\r\n",
        "  try:\r\n",
        "    model.cuda()\r\n",
        "  except Exception as e:\r\n",
        "    print('GPU not found! running on CPU mode')\r\n",
        "  return model "
      ],
      "execution_count": null,
      "outputs": []
    },
    {
      "cell_type": "markdown",
      "metadata": {
        "id": "cTcA8ona24q7"
      },
      "source": [
        "**Get optimizer**"
      ]
    },
    {
      "cell_type": "code",
      "metadata": {
        "id": "QH6YS8HI18Ow"
      },
      "source": [
        "def get_optimizer(model, learning_rate = 5e-5, warmup_steps = 100, num_epochs = 4, total_steps = 100):\r\n",
        "  \"\"\" takes model and optimizer params as input and returns optimizer and scheduler \"\"\"\r\n",
        "  optimizer = AdamW(model.parameters(), lr = learning_rate, eps = 1e-8)\r\n",
        "  scheduler = get_linear_schedule_with_warmup(optimizer, \r\n",
        "                                            num_warmup_steps = warmup_steps,\r\n",
        "                                          num_training_steps = total_steps)\r\n",
        "  return (optimizer, scheduler)"
      ],
      "execution_count": null,
      "outputs": []
    },
    {
      "cell_type": "markdown",
      "metadata": {
        "id": "WZHsE3Om5ax1"
      },
      "source": [
        "**Get Accuracy Metrics**"
      ]
    },
    {
      "cell_type": "code",
      "metadata": {
        "id": "b-bK99fF18SD"
      },
      "source": [
        "import numpy as np\r\n",
        "# Function to calculate the accuracy of our predictions vs labels\r\n",
        "def get_accuracy(preds, labels):\r\n",
        "    pred_flat = np.argmax(preds, axis=1).flatten()\r\n",
        "    labels_flat = labels.flatten()\r\n",
        "    return np.sum(pred_flat == labels_flat) / len(labels_flat)\r\n",
        "\r\n",
        "def update_conf_matrix(preds, labels, preds_arr, labels_arr):\r\n",
        "  \"\"\" receives actual and predicted labels of a minibatch and returns the updated confusion matrix \"\"\"\r\n",
        "  pred_flat = np.argmax(preds, axis=1).flatten()\r\n",
        "  labels_flat = labels.flatten()\r\n",
        "  preds_arr = np.concatenate((preds_arr, pred_flat), axis = 0)\r\n",
        "  labels_arr = np.concatenate((labels_arr, labels_flat), axis = 0)\r\n",
        "\r\n",
        "  return (preds_arr, labels_arr)\r\n",
        "  \r\n",
        "def display_classification_report(y_pred, y_true, class_map):\r\n",
        "  target_arr=[None] * len(class_map)\r\n",
        "  for key in class_map.keys():\r\n",
        "    target_arr[class_map[key]] = key\r\n",
        "\r\n",
        "  print(classification_report(y_true, y_pred, target_names = target_arr))\r\n",
        "\r\n",
        "def generate_loss_plot(x_val, y_vals):\r\n",
        "  plt.figure(figsize=(10,10))\r\n",
        "\r\n",
        "  for y_val in y_vals:\r\n",
        "    plt.plot(x_val, y_val)\r\n",
        "  plt.legend(['Validation loss','Training loss'])\r\n",
        "  plt.xlabel(\"Num of Epochs\")\r\n",
        "  plt.ylabel(\"Loss function \")\r\n",
        "  plt.title(\"Training and Validation Loss\")\r\n",
        "  plt.show()\r\n",
        "\r\n"
      ],
      "execution_count": null,
      "outputs": []
    },
    {
      "cell_type": "markdown",
      "metadata": {
        "id": "s4JzE1OH9JXw"
      },
      "source": [
        "**Validation Function**"
      ]
    },
    {
      "cell_type": "code",
      "metadata": {
        "id": "try26WwM9MOr"
      },
      "source": [
        "def validate(model, validation_dataloader = None, num_classes  = 2, class_map = {}):\r\n",
        "    print(\"Running Validation...\")\r\n",
        "    device = get_device()\r\n",
        "    num_classes = len(list(class_map.keys()))\r\n",
        "    conf_mat = torch.zeros(num_classes, num_classes)\r\n",
        "    preds_arr = np.array([])\r\n",
        "    labels_arr = np.array([])\r\n",
        "\r\n",
        "    model.eval()\r\n",
        "    eval_loss, eval_accuracy = 0, 0\r\n",
        "    eval_steps, eval_examples = 0, 0\r\n",
        "    for batch in validation_dataloader:\r\n",
        "        batch = tuple(t.to(device) for t in batch)    \r\n",
        "        b_input_ids, b_input_mask, b_labels = batch\r\n",
        "        \r\n",
        "        with torch.no_grad():        \r\n",
        "            outputs = model(b_input_ids, \r\n",
        "                            token_type_ids=None, \r\n",
        "                            attention_mask=b_input_mask, labels=b_labels)\r\n",
        "        loss = outputs[0]\r\n",
        "        logits = outputs[1]\r\n",
        "        logits = logits.detach().cpu().numpy()\r\n",
        "        label_ids = b_labels.to('cpu').numpy()\r\n",
        "        \r\n",
        "        tmp_eval_accuracy = get_accuracy(logits, label_ids)\r\n",
        "        preds_arr, labels_arr = update_conf_matrix(logits, label_ids, preds_arr, labels_arr)\r\n",
        "\r\n",
        "        \r\n",
        "        eval_accuracy += tmp_eval_accuracy\r\n",
        "        eval_loss += loss.item()\r\n",
        "        eval_steps += 1\r\n",
        "    print(\"  Accuracy: {0:.2f}\".format(eval_accuracy/eval_steps))\r\n",
        "    display_classification_report(preds_arr, labels_arr, class_map)\r\n",
        "    eval_accuracy /= eval_steps\r\n",
        "    eval_loss /= eval_steps\r\n",
        "    return (eval_accuracy, eval_loss)\r\n"
      ],
      "execution_count": null,
      "outputs": []
    },
    {
      "cell_type": "markdown",
      "metadata": {
        "id": "YtW8N4Xc6vzG"
      },
      "source": [
        "**Train Function**"
      ]
    },
    {
      "cell_type": "code",
      "metadata": {
        "id": "Egg1zJY618UO"
      },
      "source": [
        "def train(model = None, train_set = None, val_set = None, test_set = None, train_params = None, class_map = {}):\r\n",
        "  num_classes = len(list(class_map.keys()))\r\n",
        "  train_dataloader = DataLoader(train_set, batch_size = train_params['batch_size'], shuffle = True)\r\n",
        "  val_dataloader = DataLoader(val_set, batch_size = train_params['batch_size'], shuffle = True)\r\n",
        "  device = get_device()\r\n",
        "\r\n",
        "  if test_set is not None:\r\n",
        "    test_dataloader = DataLoader(test_set, batch_size = train_params['batch_size'], shuffle = True)\r\n",
        "  \r\n",
        "  total_steps = len(train_dataloader) * train_params['num_epochs']\r\n",
        "  optimizer, scheduler = get_optimizer(model, learning_rate = train_params['learning_rate'], warmup_steps = train_params['warmup_steps'], \\\r\n",
        "                                       num_epochs = train_params['num_epochs'], total_steps = total_steps)\r\n",
        "  \r\n",
        "  curr_step = 0\r\n",
        "  loss_values = []\r\n",
        "  val_loss_values = []\r\n",
        "  for epoch_i in range(0, train_params['num_epochs']):\r\n",
        "    \r\n",
        "    total_loss = 0\r\n",
        "    model.train()\r\n",
        "    for step, batch in enumerate(train_dataloader):\r\n",
        "        if step % 100 == 0 and not step == 0:\r\n",
        "          # print('Epoch = %d, step = %d'%(epoch_i, step))\r\n",
        "          print(\" For epoch = {0}, step = {1}, average training loss: {2:.3f}\".format(epoch_i+1, step, total_loss/(step+1)))\r\n",
        "          # val_accuracy, val_loss = validate(model, validation_dataloader = val_dataloader, num_classes= num_classes, class_map = class_map)\r\n",
        "    \r\n",
        "\r\n",
        "        b_input_ids = batch[0].to(device)\r\n",
        "        b_input_mask = batch[1].to(device)\r\n",
        "        b_labels = batch[2].to(device)\r\n",
        "        model.zero_grad()        \r\n",
        "        outputs = model(b_input_ids, token_type_ids=None, \r\n",
        "                    attention_mask=b_input_mask, \r\n",
        "                    labels=b_labels)\r\n",
        "        \r\n",
        "        loss = outputs[0]\r\n",
        "        total_loss += loss.item()\r\n",
        "        loss.backward()\r\n",
        "        torch.nn.utils.clip_grad_norm_(model.parameters(), 1.0)\r\n",
        "        optimizer.step()\r\n",
        "        scheduler.step()\r\n",
        "    avg_train_loss = total_loss / len(train_dataloader)            \r\n",
        "    \r\n",
        "    loss_values.append(avg_train_loss)\r\n",
        "    print(\"End of epoch  Average training loss: {0:.2f}\".format(avg_train_loss))\r\n",
        "    val_accuracy, val_loss = validate(model, validation_dataloader = val_dataloader, class_map = class_map)\r\n",
        "    val_loss_values.append(val_loss)\r\n",
        "    \r\n",
        "\r\n",
        "  print(\"\")\r\n",
        "  print(\"Training complete!\")\r\n",
        "  generate_loss_plot(np.arange(train_params['num_epochs'])+1, [ val_loss_values, loss_values])\r\n",
        "\r\n",
        "  print(\"Evaluating on test set\")\r\n",
        "  validate(model, validation_dataloader = test_dataloader, num_classes = num_classes, class_map = class_map)\r\n",
        "  \r\n",
        "\r\n",
        "  \r\n"
      ],
      "execution_count": null,
      "outputs": []
    },
    {
      "cell_type": "markdown",
      "metadata": {
        "id": "7HGsGc8tOR0O"
      },
      "source": [
        "# **MAIN**"
      ]
    },
    {
      "cell_type": "markdown",
      "metadata": {
        "id": "tQ4rGhjGOdaH"
      },
      "source": [
        "**DEFINING CONFIG PARAMS**"
      ]
    },
    {
      "cell_type": "code",
      "metadata": {
        "id": "noAbwab7Okhs"
      },
      "source": [
        "task_1_map = {'NOT' : 0, 'HOF' : 1}\r\n",
        "task_2_map = {'HATE': 0, 'NONE': 1, 'OFFN': 2, 'PRFN': 3}\r\n",
        "task_3_map = {'NONE': 0, 'TIN': 1, 'UNT': 2}\r\n",
        "\r\n",
        "train_params = { 'batch_size' : 8, 'num_epochs' : 4, 'learning_rate' : 2e-5, 'warmup_steps' : 50, 'max_inp_len' : 100}"
      ],
      "execution_count": null,
      "outputs": []
    },
    {
      "cell_type": "markdown",
      "metadata": {
        "id": "lFDqqym7Qgc5"
      },
      "source": [
        "**FOR TASK 1: FETCHING DATASETS, RUNNING TRAIN AND VALIDATION**"
      ]
    },
    {
      "cell_type": "code",
      "metadata": {
        "colab": {
          "base_uri": "https://localhost:8080/",
          "height": 1000
        },
        "id": "SVqixRzk18Yf",
        "outputId": "f8b1859b-8a03-4802-c8d6-204bb8c044af"
      },
      "source": [
        "class_map = task_1_map\r\n",
        "task_type = 'task_1'\r\n",
        "train_file_path = \"data/english_dataset/english_dataset.tsv\"\r\n",
        "test_file_path = \"data/english_dataset/hasoc2019_en_test-2919.tsv\"\r\n",
        "\r\n",
        "\r\n",
        "set_random_seed(seed_val = 42)\r\n",
        "\r\n",
        "train_set, val_set = get_dataset(mode = 'train', model_type = 'bert', class_map = class_map, max_inp_len = train_params['max_inp_len'], \\\r\n",
        "                                 file_path = train_file_path, task_type = task_type, batch_size = train_params['batch_size'])\r\n",
        "\r\n",
        "test_set = get_dataset(mode = 'test', model_type = 'bert', class_map = class_map, max_inp_len = train_params['max_inp_len'], \\\r\n",
        "                                 file_path = test_file_path, task_type = task_type, batch_size = train_params['batch_size'])\r\n",
        "\r\n",
        "model = get_model(model_type = 'bert', num_classes = len(list(class_map.keys())))\r\n",
        "\r\n",
        "train(model = model, train_set = train_set, val_set = val_set, test_set = test_set, train_params = train_params, class_map = class_map)"
      ],
      "execution_count": null,
      "outputs": [
        {
          "output_type": "stream",
          "text": [
            "Some weights of the model checkpoint at model_artifacts/bert/ were not used when initializing BertForSequenceClassification: ['cls.predictions.bias', 'cls.predictions.transform.dense.weight', 'cls.predictions.transform.dense.bias', 'cls.predictions.decoder.weight', 'cls.seq_relationship.weight', 'cls.seq_relationship.bias', 'cls.predictions.transform.LayerNorm.weight', 'cls.predictions.transform.LayerNorm.bias']\n",
            "- This IS expected if you are initializing BertForSequenceClassification from the checkpoint of a model trained on another task or with another architecture (e.g. initializing a BertForSequenceClassification model from a BertForPreTraining model).\n",
            "- This IS NOT expected if you are initializing BertForSequenceClassification from the checkpoint of a model that you expect to be exactly identical (initializing a BertForSequenceClassification model from a BertForSequenceClassification model).\n",
            "Some weights of BertForSequenceClassification were not initialized from the model checkpoint at model_artifacts/bert/ and are newly initialized: ['classifier.weight', 'classifier.bias']\n",
            "You should probably TRAIN this model on a down-stream task to be able to use it for predictions and inference.\n"
          ],
          "name": "stderr"
        },
        {
          "output_type": "stream",
          "text": [
            " For epoch = 1, step = 100, average training loss: 0.665\n",
            " For epoch = 1, step = 200, average training loss: 0.654\n",
            " For epoch = 1, step = 300, average training loss: 0.643\n",
            " For epoch = 1, step = 400, average training loss: 0.639\n",
            " For epoch = 1, step = 500, average training loss: 0.631\n",
            "End of epoch  Average training loss: 0.63\n",
            "Running Validation...\n",
            "  Accuracy: 0.69\n",
            "              precision    recall  f1-score   support\n",
            "\n",
            "         NOT       0.70      0.87      0.77       903\n",
            "         HOF       0.65      0.38      0.48       560\n",
            "\n",
            "    accuracy                           0.69      1463\n",
            "   macro avg       0.67      0.63      0.63      1463\n",
            "weighted avg       0.68      0.69      0.66      1463\n",
            "\n",
            " For epoch = 2, step = 100, average training loss: 0.543\n",
            " For epoch = 2, step = 200, average training loss: 0.536\n",
            " For epoch = 2, step = 300, average training loss: 0.536\n",
            " For epoch = 2, step = 400, average training loss: 0.536\n",
            " For epoch = 2, step = 500, average training loss: 0.526\n",
            "End of epoch  Average training loss: 0.52\n",
            "Running Validation...\n",
            "  Accuracy: 0.70\n",
            "              precision    recall  f1-score   support\n",
            "\n",
            "         NOT       0.69      0.92      0.79       903\n",
            "         HOF       0.72      0.33      0.46       560\n",
            "\n",
            "    accuracy                           0.70      1463\n",
            "   macro avg       0.70      0.63      0.62      1463\n",
            "weighted avg       0.70      0.70      0.66      1463\n",
            "\n",
            " For epoch = 3, step = 100, average training loss: 0.371\n",
            " For epoch = 3, step = 200, average training loss: 0.373\n",
            " For epoch = 3, step = 300, average training loss: 0.376\n",
            " For epoch = 3, step = 400, average training loss: 0.373\n",
            " For epoch = 3, step = 500, average training loss: 0.371\n",
            "End of epoch  Average training loss: 0.37\n",
            "Running Validation...\n",
            "  Accuracy: 0.69\n",
            "              precision    recall  f1-score   support\n",
            "\n",
            "         NOT       0.75      0.74      0.74       903\n",
            "         HOF       0.59      0.60      0.59       560\n",
            "\n",
            "    accuracy                           0.69      1463\n",
            "   macro avg       0.67      0.67      0.67      1463\n",
            "weighted avg       0.69      0.69      0.69      1463\n",
            "\n",
            " For epoch = 4, step = 100, average training loss: 0.225\n",
            " For epoch = 4, step = 200, average training loss: 0.236\n",
            " For epoch = 4, step = 300, average training loss: 0.234\n",
            " For epoch = 4, step = 400, average training loss: 0.246\n",
            " For epoch = 4, step = 500, average training loss: 0.242\n",
            "End of epoch  Average training loss: 0.24\n",
            "Running Validation...\n",
            "  Accuracy: 0.70\n",
            "              precision    recall  f1-score   support\n",
            "\n",
            "         NOT       0.73      0.81      0.77       903\n",
            "         HOF       0.63      0.52      0.57       560\n",
            "\n",
            "    accuracy                           0.70      1463\n",
            "   macro avg       0.68      0.67      0.67      1463\n",
            "weighted avg       0.69      0.70      0.69      1463\n",
            "\n",
            "\n",
            "Training complete!\n"
          ],
          "name": "stdout"
        },
        {
          "output_type": "display_data",
          "data": {
            "image/png": "[encoded data removed]",
            "text/plain": [
              "<Figure size 720x720 with 1 Axes>"
            ]
          },
          "metadata": {
            "tags": [],
            "needs_background": "light"
          }
        },
        {
          "output_type": "stream",
          "text": [
            "Evaluating on test set\n",
            "Running Validation...\n",
            "  Accuracy: 0.77\n",
            "              precision    recall  f1-score   support\n",
            "\n",
            "         NOT       0.91      0.77      0.84       865\n",
            "         HOF       0.53      0.76      0.63       288\n",
            "\n",
            "    accuracy                           0.77      1153\n",
            "   macro avg       0.72      0.77      0.73      1153\n",
            "weighted avg       0.81      0.77      0.78      1153\n",
            "\n"
          ],
          "name": "stdout"
        }
      ]
    },
    {
      "cell_type": "markdown",
      "metadata": {
        "id": "0jGD6EZBjwNw"
      },
      "source": [
        "**FOR TASK 2: FETCHING DATASETS, RUNNING TRAIN AND VALIDATION**"
      ]
    },
    {
      "cell_type": "code",
      "metadata": {
        "colab": {
          "base_uri": "https://localhost:8080/",
          "height": 1000
        },
        "id": "zpTGIbmE18gm",
        "outputId": "259f6644-fa21-4866-83f9-dc4f8c901d07"
      },
      "source": [
        "class_map = task_2_map\r\n",
        "task_type = 'task_2'\r\n",
        "train_file_path = \"data/english_dataset/english_dataset.tsv\"\r\n",
        "test_file_path = \"data/english_dataset/hasoc2019_en_test-2919.tsv\"\r\n",
        "\r\n",
        "\r\n",
        "set_random_seed(seed_val = 42)\r\n",
        "\r\n",
        "train_set, val_set = get_dataset(mode = 'train', model_type = 'bert', class_map = class_map, max_inp_len = train_params['max_inp_len'], \\\r\n",
        "                                 file_path = train_file_path, task_type = task_type, batch_size = train_params['batch_size'])\r\n",
        "\r\n",
        "test_set = get_dataset(mode = 'test', model_type = 'bert', class_map = class_map, max_inp_len = train_params['max_inp_len'], \\\r\n",
        "                                 file_path = test_file_path, task_type = task_type, batch_size = train_params['batch_size'])\r\n",
        "\r\n",
        "model = get_model(model_type = 'bert', num_classes = len(list(class_map.keys())))\r\n",
        "\r\n",
        "train(model = model, train_set = train_set, val_set = val_set, test_set = test_set, train_params = train_params, class_map = class_map)"
      ],
      "execution_count": null,
      "outputs": [
        {
          "output_type": "stream",
          "text": [
            "Some weights of the model checkpoint at model_artifacts/bert/ were not used when initializing BertForSequenceClassification: ['cls.predictions.bias', 'cls.predictions.transform.dense.weight', 'cls.predictions.transform.dense.bias', 'cls.predictions.decoder.weight', 'cls.seq_relationship.weight', 'cls.seq_relationship.bias', 'cls.predictions.transform.LayerNorm.weight', 'cls.predictions.transform.LayerNorm.bias']\n",
            "- This IS expected if you are initializing BertForSequenceClassification from the checkpoint of a model trained on another task or with another architecture (e.g. initializing a BertForSequenceClassification model from a BertForPreTraining model).\n",
            "- This IS NOT expected if you are initializing BertForSequenceClassification from the checkpoint of a model that you expect to be exactly identical (initializing a BertForSequenceClassification model from a BertForSequenceClassification model).\n",
            "Some weights of BertForSequenceClassification were not initialized from the model checkpoint at model_artifacts/bert/ and are newly initialized: ['classifier.weight', 'classifier.bias']\n",
            "You should probably TRAIN this model on a down-stream task to be able to use it for predictions and inference.\n"
          ],
          "name": "stderr"
        },
        {
          "output_type": "stream",
          "text": [
            " For epoch = 1, step = 100, average training loss: 1.104\n",
            " For epoch = 1, step = 200, average training loss: 1.089\n",
            " For epoch = 1, step = 300, average training loss: 1.061\n",
            " For epoch = 1, step = 400, average training loss: 1.030\n",
            " For epoch = 1, step = 500, average training loss: 1.010\n",
            "End of epoch  Average training loss: 1.00\n",
            "Running Validation...\n",
            "  Accuracy: 0.65\n",
            "              precision    recall  f1-score   support\n",
            "\n",
            "        HATE       0.00      0.00      0.00       286\n",
            "        NONE       0.66      0.97      0.78       903\n",
            "        OFFN       0.00      0.00      0.00       111\n",
            "        PRFN       0.64      0.48      0.55       163\n",
            "\n",
            "    accuracy                           0.65      1463\n",
            "   macro avg       0.32      0.36      0.33      1463\n",
            "weighted avg       0.48      0.65      0.54      1463\n",
            "\n"
          ],
          "name": "stdout"
        },
        {
          "output_type": "stream",
          "text": [
            "/usr/local/lib/python3.6/dist-packages/sklearn/metrics/_classification.py:1272: UndefinedMetricWarning: Precision and F-score are ill-defined and being set to 0.0 in labels with no predicted samples. Use `zero_division` parameter to control this behavior.\n",
            "  _warn_prf(average, modifier, msg_start, len(result))\n"
          ],
          "name": "stderr"
        },
        {
          "output_type": "stream",
          "text": [
            " For epoch = 2, step = 100, average training loss: 0.823\n",
            " For epoch = 2, step = 200, average training loss: 0.859\n",
            " For epoch = 2, step = 300, average training loss: 0.864\n",
            " For epoch = 2, step = 400, average training loss: 0.851\n",
            " For epoch = 2, step = 500, average training loss: 0.843\n",
            "End of epoch  Average training loss: 0.84\n",
            "Running Validation...\n",
            "  Accuracy: 0.65\n",
            "              precision    recall  f1-score   support\n",
            "\n",
            "        HATE       0.35      0.10      0.16       286\n",
            "        NONE       0.70      0.91      0.79       903\n",
            "        OFFN       0.33      0.17      0.22       111\n",
            "        PRFN       0.58      0.51      0.54       163\n",
            "\n",
            "    accuracy                           0.65      1463\n",
            "   macro avg       0.49      0.42      0.43      1463\n",
            "weighted avg       0.59      0.65      0.59      1463\n",
            "\n",
            " For epoch = 3, step = 100, average training loss: 0.710\n",
            " For epoch = 3, step = 200, average training loss: 0.702\n",
            " For epoch = 3, step = 300, average training loss: 0.711\n",
            " For epoch = 3, step = 400, average training loss: 0.716\n",
            " For epoch = 3, step = 500, average training loss: 0.706\n",
            "End of epoch  Average training loss: 0.71\n",
            "Running Validation...\n",
            "  Accuracy: 0.67\n",
            "              precision    recall  f1-score   support\n",
            "\n",
            "        HATE       0.49      0.06      0.11       286\n",
            "        NONE       0.69      0.94      0.80       903\n",
            "        OFFN       0.35      0.23      0.28       111\n",
            "        PRFN       0.68      0.50      0.57       163\n",
            "\n",
            "    accuracy                           0.67      1463\n",
            "   macro avg       0.55      0.43      0.44      1463\n",
            "weighted avg       0.62      0.67      0.60      1463\n",
            "\n",
            " For epoch = 4, step = 100, average training loss: 0.592\n",
            " For epoch = 4, step = 200, average training loss: 0.573\n",
            " For epoch = 4, step = 300, average training loss: 0.554\n",
            " For epoch = 4, step = 400, average training loss: 0.548\n",
            " For epoch = 4, step = 500, average training loss: 0.559\n",
            "End of epoch  Average training loss: 0.56\n",
            "Running Validation...\n",
            "  Accuracy: 0.64\n",
            "              precision    recall  f1-score   support\n",
            "\n",
            "        HATE       0.30      0.14      0.19       286\n",
            "        NONE       0.71      0.86      0.78       903\n",
            "        OFFN       0.36      0.31      0.33       111\n",
            "        PRFN       0.62      0.51      0.56       163\n",
            "\n",
            "    accuracy                           0.64      1463\n",
            "   macro avg       0.50      0.46      0.47      1463\n",
            "weighted avg       0.59      0.64      0.61      1463\n",
            "\n",
            "\n",
            "Training complete!\n"
          ],
          "name": "stdout"
        },
        {
          "output_type": "display_data",
          "data": {
            "image/png": "[encoded data removed]",
            "text/plain": [
              "<Figure size 720x720 with 1 Axes>"
            ]
          },
          "metadata": {
            "tags": [],
            "needs_background": "light"
          }
        },
        {
          "output_type": "stream",
          "text": [
            "Evaluating on test set\n",
            "Running Validation...\n",
            "  Accuracy: 0.72\n",
            "              precision    recall  f1-score   support\n",
            "\n",
            "        HATE       0.27      0.61      0.37       124\n",
            "        NONE       0.91      0.77      0.83       865\n",
            "        OFFN       0.35      0.11      0.17        71\n",
            "        PRFN       0.66      0.83      0.74        93\n",
            "\n",
            "    accuracy                           0.71      1153\n",
            "   macro avg       0.55      0.58      0.53      1153\n",
            "weighted avg       0.79      0.71      0.73      1153\n",
            "\n"
          ],
          "name": "stdout"
        }
      ]
    },
    {
      "cell_type": "markdown",
      "metadata": {
        "id": "8qSfLzd3l_6g"
      },
      "source": [
        "**FOR TASK 3: FETCHING DATASETS, RUNNING TRAIN AND VALIDATION**"
      ]
    },
    {
      "cell_type": "code",
      "metadata": {
        "colab": {
          "base_uri": "https://localhost:8080/",
          "height": 1000
        },
        "id": "DWCuNg_m18jl",
        "outputId": "e8dbf57e-4ae1-47b7-b743-65cb97b6273a"
      },
      "source": [
        "class_map = task_3_map\r\n",
        "task_type = 'task_3'\r\n",
        "train_file_path = \"data/english_dataset/english_dataset.tsv\"\r\n",
        "test_file_path = \"data/english_dataset/hasoc2019_en_test-2919.tsv\"\r\n",
        "\r\n",
        "\r\n",
        "set_random_seed(seed_val = 42)\r\n",
        "\r\n",
        "train_set, val_set = get_dataset(mode = 'train', model_type = 'bert', class_map = class_map, max_inp_len = train_params['max_inp_len'], \\\r\n",
        "                                 file_path = train_file_path, task_type = task_type, batch_size = train_params['batch_size'])\r\n",
        "\r\n",
        "test_set = get_dataset(mode = 'test', model_type = 'bert', class_map = class_map, max_inp_len = train_params['max_inp_len'], \\\r\n",
        "                                 file_path = test_file_path, task_type = task_type, batch_size = train_params['batch_size'])\r\n",
        "\r\n",
        "model = get_model(model_type = 'bert', num_classes = len(list(class_map.keys())))\r\n",
        "\r\n",
        "train(model = model, train_set = train_set, val_set = val_set, test_set = test_set, train_params = train_params, class_map = class_map)"
      ],
      "execution_count": null,
      "outputs": [
        {
          "output_type": "stream",
          "text": [
            "Some weights of the model checkpoint at model_artifacts/bert/ were not used when initializing BertForSequenceClassification: ['cls.predictions.bias', 'cls.predictions.transform.dense.weight', 'cls.predictions.transform.dense.bias', 'cls.predictions.decoder.weight', 'cls.seq_relationship.weight', 'cls.seq_relationship.bias', 'cls.predictions.transform.LayerNorm.weight', 'cls.predictions.transform.LayerNorm.bias']\n",
            "- This IS expected if you are initializing BertForSequenceClassification from the checkpoint of a model trained on another task or with another architecture (e.g. initializing a BertForSequenceClassification model from a BertForPreTraining model).\n",
            "- This IS NOT expected if you are initializing BertForSequenceClassification from the checkpoint of a model that you expect to be exactly identical (initializing a BertForSequenceClassification model from a BertForSequenceClassification model).\n",
            "Some weights of BertForSequenceClassification were not initialized from the model checkpoint at model_artifacts/bert/ and are newly initialized: ['classifier.weight', 'classifier.bias']\n",
            "You should probably TRAIN this model on a down-stream task to be able to use it for predictions and inference.\n"
          ],
          "name": "stderr"
        },
        {
          "output_type": "stream",
          "text": [
            " For epoch = 1, step = 100, average training loss: 0.904\n",
            " For epoch = 1, step = 200, average training loss: 0.851\n",
            " For epoch = 1, step = 300, average training loss: 0.818\n",
            " For epoch = 1, step = 400, average training loss: 0.796\n",
            " For epoch = 1, step = 500, average training loss: 0.787\n",
            "End of epoch  Average training loss: 0.78\n",
            "Running Validation...\n",
            "  Accuracy: 0.68\n",
            "              precision    recall  f1-score   support\n",
            "\n",
            "        NONE       0.69      0.94      0.79       903\n",
            "         TIN       0.67      0.31      0.42       503\n",
            "         UNT       0.00      0.00      0.00        57\n",
            "\n",
            "    accuracy                           0.68      1463\n",
            "   macro avg       0.45      0.42      0.41      1463\n",
            "weighted avg       0.65      0.68      0.63      1463\n",
            "\n"
          ],
          "name": "stdout"
        },
        {
          "output_type": "stream",
          "text": [
            "/usr/local/lib/python3.6/dist-packages/sklearn/metrics/_classification.py:1272: UndefinedMetricWarning: Precision and F-score are ill-defined and being set to 0.0 in labels with no predicted samples. Use `zero_division` parameter to control this behavior.\n",
            "  _warn_prf(average, modifier, msg_start, len(result))\n"
          ],
          "name": "stderr"
        },
        {
          "output_type": "stream",
          "text": [
            " For epoch = 2, step = 100, average training loss: 0.660\n",
            " For epoch = 2, step = 200, average training loss: 0.650\n",
            " For epoch = 2, step = 300, average training loss: 0.640\n",
            " For epoch = 2, step = 400, average training loss: 0.642\n",
            " For epoch = 2, step = 500, average training loss: 0.647\n",
            "End of epoch  Average training loss: 0.65\n",
            "Running Validation...\n",
            "  Accuracy: 0.68\n",
            "              precision    recall  f1-score   support\n",
            "\n",
            "        NONE       0.72      0.84      0.78       903\n",
            "         TIN       0.61      0.47      0.53       503\n",
            "         UNT       0.12      0.04      0.05        57\n",
            "\n",
            "    accuracy                           0.68      1463\n",
            "   macro avg       0.48      0.45      0.45      1463\n",
            "weighted avg       0.66      0.68      0.66      1463\n",
            "\n",
            " For epoch = 3, step = 100, average training loss: 0.536\n",
            " For epoch = 3, step = 200, average training loss: 0.501\n",
            " For epoch = 3, step = 300, average training loss: 0.511\n",
            " For epoch = 3, step = 400, average training loss: 0.504\n",
            " For epoch = 3, step = 500, average training loss: 0.492\n",
            "End of epoch  Average training loss: 0.49\n",
            "Running Validation...\n",
            "  Accuracy: 0.64\n",
            "              precision    recall  f1-score   support\n",
            "\n",
            "        NONE       0.74      0.71      0.72       903\n",
            "         TIN       0.51      0.60      0.55       503\n",
            "         UNT       0.14      0.02      0.03        57\n",
            "\n",
            "    accuracy                           0.64      1463\n",
            "   macro avg       0.46      0.44      0.44      1463\n",
            "weighted avg       0.64      0.64      0.64      1463\n",
            "\n",
            " For epoch = 4, step = 100, average training loss: 0.326\n",
            " For epoch = 4, step = 200, average training loss: 0.344\n",
            " For epoch = 4, step = 300, average training loss: 0.351\n",
            " For epoch = 4, step = 400, average training loss: 0.347\n",
            " For epoch = 4, step = 500, average training loss: 0.342\n",
            "End of epoch  Average training loss: 0.34\n",
            "Running Validation...\n",
            "  Accuracy: 0.67\n",
            "              precision    recall  f1-score   support\n",
            "\n",
            "        NONE       0.72      0.81      0.76       903\n",
            "         TIN       0.57      0.49      0.53       503\n",
            "         UNT       0.12      0.04      0.05        57\n",
            "\n",
            "    accuracy                           0.67      1463\n",
            "   macro avg       0.47      0.44      0.45      1463\n",
            "weighted avg       0.64      0.67      0.65      1463\n",
            "\n",
            "\n",
            "Training complete!\n"
          ],
          "name": "stdout"
        },
        {
          "output_type": "display_data",
          "data": {
            "image/png": "[encoded data removed]",
            "text/plain": [
              "<Figure size 720x720 with 1 Axes>"
            ]
          },
          "metadata": {
            "tags": [],
            "needs_background": "light"
          }
        },
        {
          "output_type": "stream",
          "text": [
            "Evaluating on test set\n",
            "Running Validation...\n",
            "  Accuracy: 0.74\n",
            "              precision    recall  f1-score   support\n",
            "\n",
            "        NONE       0.90      0.80      0.85       865\n",
            "         TIN       0.48      0.65      0.55       245\n",
            "         UNT       0.04      0.05      0.04        43\n",
            "\n",
            "    accuracy                           0.74      1153\n",
            "   macro avg       0.47      0.50      0.48      1153\n",
            "weighted avg       0.78      0.74      0.75      1153\n",
            "\n"
          ],
          "name": "stdout"
        }
      ]
    }
  ]
}