{
 "cells": [
  {
   "cell_type": "code",
   "execution_count": 1,
   "metadata": {},
   "outputs": [],
   "source": [
    "import pandas as pd\n",
    "import re\n",
    "import tensorflow as tf\n",
    "from tensorflow.keras import optimizers\n",
    "from tensorflow.keras.layers import Dense, Activation\n",
    "from tensorflow.keras.models import Sequential\n",
    "from sklearn.model_selection import train_test_split"
   ]
  },
  {
   "cell_type": "code",
   "execution_count": 2,
   "metadata": {},
   "outputs": [
    {
     "data": {
      "text/html": [
       "<div>\n",
       "<style scoped>\n",
       "    .dataframe tbody tr th:only-of-type {\n",
       "        vertical-align: middle;\n",
       "    }\n",
       "\n",
       "    .dataframe tbody tr th {\n",
       "        vertical-align: top;\n",
       "    }\n",
       "\n",
       "    .dataframe thead th {\n",
       "        text-align: right;\n",
       "    }\n",
       "</style>\n",
       "<table border=\"1\" class=\"dataframe\">\n",
       "  <thead>\n",
       "    <tr style=\"text-align: right;\">\n",
       "      <th></th>\n",
       "      <th>text_id</th>\n",
       "      <th>text</th>\n",
       "      <th>task_1</th>\n",
       "      <th>task_2</th>\n",
       "      <th>task_3</th>\n",
       "    </tr>\n",
       "  </thead>\n",
       "  <tbody>\n",
       "    <tr>\n",
       "      <th>0</th>\n",
       "      <td>hasoc_en_1</td>\n",
       "      <td>#DhoniKeepsTheGlove | WATCH: Sports Minister K...</td>\n",
       "      <td>NOT</td>\n",
       "      <td>NONE</td>\n",
       "      <td>NONE</td>\n",
       "    </tr>\n",
       "    <tr>\n",
       "      <th>1</th>\n",
       "      <td>hasoc_en_2</td>\n",
       "      <td>@politico No. We should remember very clearly ...</td>\n",
       "      <td>HOF</td>\n",
       "      <td>HATE</td>\n",
       "      <td>TIN</td>\n",
       "    </tr>\n",
       "    <tr>\n",
       "      <th>2</th>\n",
       "      <td>hasoc_en_3</td>\n",
       "      <td>@cricketworldcup Guess who would be the winner...</td>\n",
       "      <td>NOT</td>\n",
       "      <td>NONE</td>\n",
       "      <td>NONE</td>\n",
       "    </tr>\n",
       "    <tr>\n",
       "      <th>3</th>\n",
       "      <td>hasoc_en_4</td>\n",
       "      <td>Corbyn is too politically intellectual for #Bo...</td>\n",
       "      <td>NOT</td>\n",
       "      <td>NONE</td>\n",
       "      <td>NONE</td>\n",
       "    </tr>\n",
       "    <tr>\n",
       "      <th>4</th>\n",
       "      <td>hasoc_en_5</td>\n",
       "      <td>All the best to #TeamIndia for another swimmin...</td>\n",
       "      <td>NOT</td>\n",
       "      <td>NONE</td>\n",
       "      <td>NONE</td>\n",
       "    </tr>\n",
       "  </tbody>\n",
       "</table>\n",
       "</div>"
      ],
      "text/plain": [
       "      text_id                                               text task_1  \\\n",
       "0  hasoc_en_1  #DhoniKeepsTheGlove | WATCH: Sports Minister K...    NOT   \n",
       "1  hasoc_en_2  @politico No. We should remember very clearly ...    HOF   \n",
       "2  hasoc_en_3  @cricketworldcup Guess who would be the winner...    NOT   \n",
       "3  hasoc_en_4  Corbyn is too politically intellectual for #Bo...    NOT   \n",
       "4  hasoc_en_5  All the best to #TeamIndia for another swimmin...    NOT   \n",
       "\n",
       "  task_2 task_3  \n",
       "0   NONE   NONE  \n",
       "1   HATE    TIN  \n",
       "2   NONE   NONE  \n",
       "3   NONE   NONE  \n",
       "4   NONE   NONE  "
      ]
     },
     "execution_count": 2,
     "metadata": {},
     "output_type": "execute_result"
    }
   ],
   "source": [
    "import tensorflow_hub as hub\n",
    "embed = hub.load(\"../../model/\")\n",
    "\n",
    "data = pd.read_csv(\"../../data/english_dataset/english_dataset.tsv\",sep=\"\\t\")\n",
    "data.head()"
   ]
  },
  {
   "cell_type": "code",
   "execution_count": 3,
   "metadata": {},
   "outputs": [],
   "source": [
    "def create_label(labels, data):\n",
    "    return data.map(labels, na_action='ignore')"
   ]
  },
  {
   "cell_type": "code",
   "execution_count": 9,
   "metadata": {},
   "outputs": [],
   "source": [
    "def create_model(n_class):\n",
    "    print(\"CLASSES:\", n_class)\n",
    "    model = Sequential()\n",
    "    model.add(Dense(512, activation='relu'))\n",
    "    model.add(Dense(128, activation='relu'))\n",
    "    model.add(Dense(n_class, activation='softmax'))\n",
    "    return model"
   ]
  },
  {
   "cell_type": "code",
   "execution_count": 10,
   "metadata": {},
   "outputs": [],
   "source": [
    "def train(model, X_train, X_test, y_train, y_test):\n",
    "    model.compile(optimizer='adam', loss='sparse_categorical_crossentropy', metrics=['accuracy'])\n",
    "    model.fit(X_train, y_train, epochs=5, batch_size=32)\n",
    "    print(model.evaluate(X_test, y_test))\n",
    "    "
   ]
  },
  {
   "cell_type": "code",
   "execution_count": 12,
   "metadata": {},
   "outputs": [],
   "source": [
    "# label_task1, label_task2, label_task3 = {'NOT': 0, 'HOF': 1}, {'HATE':0, 'OFFN':1, 'PRFN':2}, {'TIN':0, 'UNT':1}\n",
    "label = [{'NOT': 0, 'HOF': 1}, {'HATE':0, 'OFFN':1, 'PRFN':2, 'NONE':3}, {'TIN':0, 'UNT':1, 'NONE':2}]"
   ]
  },
  {
   "cell_type": "code",
   "execution_count": 13,
   "metadata": {},
   "outputs": [
    {
     "name": "stdout",
     "output_type": "stream",
     "text": [
      "CLASSES: 2\n",
      "Epoch 1/5\n",
      "123/123 [==============================] - 1s 3ms/step - loss: 0.1278 - accuracy: 0.9660\n",
      "Epoch 2/5\n",
      "123/123 [==============================] - 0s 3ms/step - loss: 4.8743e-05 - accuracy: 1.0000\n",
      "Epoch 3/5\n",
      "123/123 [==============================] - 0s 2ms/step - loss: 3.1953e-05 - accuracy: 1.0000\n",
      "Epoch 4/5\n",
      "123/123 [==============================] - 0s 2ms/step - loss: 2.1449e-05 - accuracy: 1.0000\n",
      "Epoch 5/5\n",
      "123/123 [==============================] - 0s 2ms/step - loss: 1.4964e-05 - accuracy: 1.0000\n",
      "61/61 [==============================] - 0s 1ms/step - loss: 1.1637e-05 - accuracy: 1.0000\n",
      "[1.1636541785264853e-05, 1.0]\n",
      "CLASSES: 4\n",
      "Epoch 1/5\n",
      "123/123 [==============================] - 1s 3ms/step - loss: 0.3077 - accuracy: 0.9500\n",
      "Epoch 2/5\n",
      "123/123 [==============================] - 0s 2ms/step - loss: 1.5050e-04 - accuracy: 1.0000\n",
      "Epoch 3/5\n",
      "123/123 [==============================] - 0s 2ms/step - loss: 5.8758e-05 - accuracy: 1.0000\n",
      "Epoch 4/5\n",
      "123/123 [==============================] - 0s 2ms/step - loss: 2.7110e-05 - accuracy: 1.0000\n",
      "Epoch 5/5\n",
      "123/123 [==============================] - 0s 2ms/step - loss: 1.8073e-05 - accuracy: 1.0000\n",
      "61/61 [==============================] - 0s 1ms/step - loss: 1.3297e-05 - accuracy: 1.0000\n",
      "[1.3296747056301683e-05, 1.0]\n",
      "CLASSES: 3\n",
      "Epoch 1/5\n",
      "123/123 [==============================] - 1s 3ms/step - loss: 0.2182 - accuracy: 0.9452\n",
      "Epoch 2/5\n",
      "123/123 [==============================] - 0s 2ms/step - loss: 1.2291e-04 - accuracy: 1.0000\n",
      "Epoch 3/5\n",
      "123/123 [==============================] - 0s 2ms/step - loss: 5.0818e-05 - accuracy: 1.0000\n",
      "Epoch 4/5\n",
      "123/123 [==============================] - 0s 2ms/step - loss: 2.6247e-05 - accuracy: 1.0000\n",
      "Epoch 5/5\n",
      "123/123 [==============================] - 0s 2ms/step - loss: 1.6585e-05 - accuracy: 1.0000\n",
      "61/61 [==============================] - 0s 1ms/step - loss: 1.3156e-05 - accuracy: 1.0000\n",
      "[1.3156353816157207e-05, 1.0]\n"
     ]
    }
   ],
   "source": [
    "for i in range(1,4):\n",
    "    col = \"task_\"+str(i)\n",
    "    y = create_label(label[i-1], data[col])\n",
    "    x = data[col]\n",
    "    X_train, X_test, y_train, y_test = train_test_split(x, y, test_size=0.33, random_state=42)\n",
    "    \n",
    "    X_train_embed = embed(X_train)\n",
    "    X_test_embed = embed(X_test)\n",
    "    \n",
    "    model = create_model(n_class = len(label[i-1]))\n",
    "    train(model, X_train_embed, X_test_embed, y_train, y_test)"
   ]
  },
  {
   "cell_type": "code",
   "execution_count": null,
   "metadata": {},
   "outputs": [],
   "source": [
    "'''\n",
    "labels = {'TIN':0, 'UNT':1, 'NONE':3}\n",
    "y = data['task_3'].map(labels, na_action='ignore')\n",
    "x = data['text']\n",
    "'''"
   ]
  },
  {
   "cell_type": "code",
   "execution_count": null,
   "metadata": {},
   "outputs": [],
   "source": []
  }
 ],
 "metadata": {
  "kernelspec": {
   "display_name": "Python 3",
   "language": "python",
   "name": "python3"
  },
  "language_info": {
   "codemirror_mode": {
    "name": "ipython",
    "version": 3
   },
   "file_extension": ".py",
   "mimetype": "text/x-python",
   "name": "python",
   "nbconvert_exporter": "python",
   "pygments_lexer": "ipython3",
   "version": "3.7.6"
  }
 },
 "nbformat": 4,
 "nbformat_minor": 4
}
